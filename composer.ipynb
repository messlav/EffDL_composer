{
 "cells": [
  {
   "cell_type": "code",
   "execution_count": 3,
   "id": "f7aee94b",
   "metadata": {
    "cellId": "t8ejvcti7wrh8ak3xoh0z"
   },
   "outputs": [],
   "source": [
    "!kaggle competitions download -c 'Chest-x-ray-image-classification'\n",
    "!unzip Chest-x-ray-image-classification.zip"
   ]
  },
  {
   "cell_type": "code",
   "execution_count": 36,
   "id": "2a7ea8ef",
   "metadata": {
    "cellId": "tqcorbf4dop0tiqxj0tao"
   },
   "outputs": [],
   "source": [
    "%matplotlib inline\n",
    "import random\n",
    "from IPython.display import clear_output\n",
    "import pandas as pd\n",
    "\n",
    "import torch\n",
    "import torch.nn as nn\n",
    "import torch.nn.functional as F\n",
    "from torchvision.models import densenet169\n",
    "from torch.utils.data import Dataset\n",
    "from torchvision.io import read_image\n",
    "import torchvision.transforms as T\n",
    "from torch.optim.lr_scheduler import StepLR\n",
    "\n",
    "import wandb\n",
    "from torchmetrics import AUROC\n",
    "from tqdm.notebook import tqdm\n",
    "\n",
    "def set_random_seed(seed):\n",
    "    torch.backends.cudnn.deterministic = True\n",
    "    torch.manual_seed(seed)\n",
    "    torch.cuda.manual_seed(seed)\n",
    "    random.seed(seed)"
   ]
  },
  {
   "cell_type": "code",
   "execution_count": 7,
   "id": "e5f88289",
   "metadata": {
    "cellId": "pr43tv5667peua1f4zu1o"
   },
   "outputs": [],
   "source": [
    "names_of_deceases = ['Cardiomegaly', 'Edema', 'Consolidation', 'Atelectasis', 'Pleural Effusion']\n",
    "\n",
    "class CustomImageDataset(Dataset):\n",
    "    def __init__(self, annotations_file, img_dir, transform=None, target_transform=None, train=True):\n",
    "        df = pd.read_csv(annotations_file)\n",
    "        self.img_labels = df[names_of_deceases].values\n",
    "        self.img_locations = df['Image'].values\n",
    "        self.img_dir = img_dir\n",
    "        self.transform = transform\n",
    "        self.target_transform = target_transform\n",
    "\n",
    "    def __len__(self):\n",
    "        return self.img_labels.shape[0]\n",
    "\n",
    "    def __getitem__(self, idx):\n",
    "        image = read_image(f'{self.img_dir}/{self.img_locations[idx]}') / 255\n",
    "        label = self.img_labels[idx]\n",
    "        if self.transform:\n",
    "            image = self.transform(image)\n",
    "        if self.target_transform:\n",
    "            label = self.target_transform(label)\n",
    "        return image, label\n",
    "\n",
    "\n",
    "\n",
    "mean, std = 0.506, 0.289\n",
    "transform_train = T.Compose([\n",
    "    T.RandomResizedCrop(size=(224, 224), scale=(0.8, 1.0)),\n",
    "    T.RandomHorizontalFlip(p=0.5),\n",
    "    T.Normalize(mean=(mean), std=(std)),\n",
    "    T.Lambda(lambda x: x.repeat(3, 1, 1))\n",
    "])\n",
    "\n",
    "training_data = CustomImageDataset(\n",
    "    annotations_file='data/train.csv',\n",
    "    img_dir='data',\n",
    "    transform=transform_train\n",
    ")\n",
    "\n",
    "batch_size = 128\n",
    "train_loader = torch.utils.data.DataLoader(\n",
    "    training_data,\n",
    "    batch_size=batch_size,\n",
    "    shuffle=True,\n",
    "    num_workers=8,\n",
    "    pin_memory=True,\n",
    ")"
   ]
  },
  {
   "cell_type": "code",
   "execution_count": 20,
   "id": "adb50239",
   "metadata": {
    "cellId": "su7ytfyo2je7uz4pncxz5"
   },
   "outputs": [],
   "source": [
    "criterion = nn.BCEWithLogitsLoss()\n",
    "aucroc = AUROC(num_labels=5, task='multilabel')\n",
    "scaler = torch.cuda.amp.GradScaler()\n",
    "\n",
    "def train_epoch(model, optimizer, record):\n",
    "    model.train()\n",
    "    for batch_num, (data, target) in tqdm(enumerate(train_loader), total=len(train_loader)):\n",
    "        data = data.to(device)\n",
    "        target = target.to(device)\n",
    "        optimizer.zero_grad()\n",
    "        with torch.cuda.amp.autocast():\n",
    "            output = model(data)\n",
    "        preds = torch.sigmoid(output).detach()\n",
    "        auc_roc = aucroc(preds, target.to(torch.int)).item()\n",
    "        loss = criterion(output, target)\n",
    "        scaler.scale(loss).backward()\n",
    "        scaler.step(optimizer)\n",
    "        scaler.update()\n",
    "        loss = loss.item()\n",
    "        if record:\n",
    "            wandb.log({\n",
    "                \"train/loss\": loss,\n",
    "                \"train/auc_roc\": auc_roc\n",
    "            })\n",
    "    \n",
    "def train(model, opt, n_epochs, scheduler=None, record=False, config=None, run_name=None, PATH='model'):\n",
    "    if record:\n",
    "        wandb.login()\n",
    "        wandb.init(\n",
    "            project=\"HSE_DL_BHW1\",\n",
    "            config=config\n",
    "        )\n",
    "        if run_name is not None:\n",
    "            wandb.run.name = run_name\n",
    "    for epoch in range(n_epochs):\n",
    "        print(\"Epoch {0} of {1}\".format(epoch, n_epochs))\n",
    "        train_epoch(model, opt, record)\n",
    "        torch.save(model.state_dict(), f'{PATH}_{epoch}.pth')\n",
    "        scheduler.step()\n",
    "    if record:\n",
    "        wandb.finish()"
   ]
  },
  {
   "cell_type": "code",
   "execution_count": 14,
   "id": "e7e1976f",
   "metadata": {
    "cellId": "izz7r39milore6yyodshw"
   },
   "outputs": [
    {
     "name": "stdout",
     "output_type": "stream",
     "text": [
      "model params: 12492805\n"
     ]
    }
   ],
   "source": [
    "set_random_seed(3407)\n",
    "device = 'cuda:0' if torch.cuda.is_available() else 'cpu'\n",
    "model = densenet169(weights=None)\n",
    "model.classifier = nn.Linear(1664, 5)\n",
    "model = model.to(device)\n",
    "print('model params:', sum(p.numel() for p in model.parameters()))"
   ]
  },
  {
   "cell_type": "code",
   "execution_count": 15,
   "id": "2e052c68",
   "metadata": {
    "cellId": "sv6xuh6x3pnmtifmb3pvh"
   },
   "outputs": [],
   "source": [
    "num_epochs = 5\n",
    "lr = 1e-3\n",
    "weight_decay = 1e-4\n",
    "opt = torch.optim.Adam(model.parameters(), lr=lr, weight_decay=weight_decay)\n",
    "scheduler = StepLR(opt, 3)\n",
    "\n",
    "config = {\n",
    "    \"model\": \"densenet169\",\n",
    "    \"epochs\": num_epochs,\n",
    "    \"batch_size\": batch_size,\n",
    "    \"optimizer\": \"Adam\",\n",
    "    \"lr\": lr,\n",
    "    \"weight_decay\": weight_decay,\n",
    "    \"sheduler\": \"StepLR\"\n",
    "}"
   ]
  },
  {
   "cell_type": "code",
   "execution_count": 20,
   "id": "28409324",
   "metadata": {
    "cellId": "taq2xu54xo69oyk3lto4m"
   },
   "outputs": [
    {
     "data": {
      "application/vnd.jupyter.widget-view+json": {
       "model_id": "3b03192a97b34b26872b9200ebf8aece",
       "version_major": 2,
       "version_minor": 0
      },
      "text/plain": [
       "  0%|          | 0/1343 [00:00<?, ?it/s]"
      ]
     },
     "metadata": {},
     "output_type": "display_data"
    },
    {
     "name": "stderr",
     "output_type": "stream",
     "text": [
      "/usr/local/lib/python3.8/dist-packages/torchmetrics/utilities/prints.py:36: UserWarning: No positive samples in targets, true positive value should be meaningless. Returning zero tensor in true positive score\n",
      "  warnings.warn(*args, **kwargs)\n",
      "/usr/local/lib/python3.8/dist-packages/torchmetrics/utilities/prints.py:36: UserWarning: No positive samples in targets, true positive value should be meaningless. Returning zero tensor in true positive score\n",
      "  warnings.warn(*args, **kwargs)\n"
     ]
    },
    {
     "name": "stdout",
     "output_type": "stream",
     "text": [
      "Epoch 3 of 5\n",
      "1343\n",
      "Epoch 4 of 5\n",
      "1343\n"
     ]
    },
    {
     "data": {
      "application/vnd.jupyter.widget-view+json": {
       "model_id": "91086438db4d459f8e98747c9b4d14a1",
       "version_major": 2,
       "version_minor": 0
      },
      "text/plain": [
       "  0%|          | 0/1343 [00:00<?, ?it/s]"
      ]
     },
     "metadata": {},
     "output_type": "display_data"
    },
    {
     "data": {
      "text/html": [
       "Waiting for W&B process to finish... <strong style=\"color:green\">(success).</strong>"
      ],
      "text/plain": [
       "<IPython.core.display.HTML object>"
      ]
     },
     "metadata": {},
     "output_type": "display_data"
    },
    {
     "data": {
      "text/html": [
       "<style>\n",
       "    table.wandb td:nth-child(1) { padding: 0 10px; text-align: left ; width: auto;} td:nth-child(2) {text-align: left ; width: 100%}\n",
       "    .wandb-row { display: flex; flex-direction: row; flex-wrap: wrap; justify-content: flex-start; width: 100% }\n",
       "    .wandb-col { display: flex; flex-direction: column; flex-basis: 100%; flex: 1; padding: 10px; }\n",
       "    </style>\n",
       "<div class=\"wandb-row\"><div class=\"wandb-col\"><h3>Run history:</h3><br/><table class=\"wandb\"><tr><td>train/auc_roc</td><td>▂▁▄▆▁▃▃▄▄▄▅▆▄▄▅▅▃▄▃▄▆▄▄▄▆▅▆▅▆▅▄▆▆█▇▆▆▄▄▆</td></tr><tr><td>train/loss</td><td>▇▆▅▅▇▅▅▄▇▇▅▄▄█▄█▆▇▆▄▄▆▂▄▄▄▃▄▂▄▆▂▆▁▄▃▂▅▅▅</td></tr></table><br/></div><div class=\"wandb-col\"><h3>Run summary:</h3><br/><table class=\"wandb\"><tr><td>train/auc_roc</td><td>0.82857</td></tr><tr><td>train/loss</td><td>0.613</td></tr></table><br/></div></div>"
      ],
      "text/plain": [
       "<IPython.core.display.HTML object>"
      ]
     },
     "metadata": {},
     "output_type": "display_data"
    },
    {
     "data": {
      "text/html": [
       " View run <strong style=\"color:#cdcd00\">lunar-grass-48</strong> at: <a href='https://wandb.ai/messlav/HSE_DL_BHW1/runs/wmgvmjk0' target=\"_blank\">https://wandb.ai/messlav/HSE_DL_BHW1/runs/wmgvmjk0</a><br/>Synced 5 W&B file(s), 0 media file(s), 0 artifact file(s) and 0 other file(s)"
      ],
      "text/plain": [
       "<IPython.core.display.HTML object>"
      ]
     },
     "metadata": {},
     "output_type": "display_data"
    },
    {
     "data": {
      "text/html": [
       "Find logs at: <code>./wandb/run-20230318_222247-wmgvmjk0/logs</code>"
      ],
      "text/plain": [
       "<IPython.core.display.HTML object>"
      ]
     },
     "metadata": {},
     "output_type": "display_data"
    }
   ],
   "source": [
    "train(model, opt, num_epochs, scheduler, record=True, config=config)"
   ]
  },
  {
   "cell_type": "markdown",
   "id": "0894c74b",
   "metadata": {
    "cellId": "kvxgkuxd1hsud0d21m3bos"
   },
   "source": [
    "# Composer"
   ]
  },
  {
   "cell_type": "code",
   "execution_count": 27,
   "id": "e0d2881c",
   "metadata": {
    "cellId": "g08rldrrknjzbzrxxfq3w"
   },
   "outputs": [],
   "source": [
    "import composer.functional as cf\n",
    "from composer.algorithms.colout import ColOutTransform\n",
    "from composer.algorithms.augmix import AugmentAndMixTransform\n",
    "\n",
    "\n",
    "augmix_transform = AugmentAndMixTransform(severity=3,\n",
    "                                          width=3,\n",
    "                                          depth=-1,\n",
    "                                          alpha=1.0,\n",
    "                                          augmentation_set=\"all\")\n",
    "colout_transform = ColOutTransform(p_row=0.15, p_col=0.15)\n",
    "\n",
    "transform_train = T.Compose([\n",
    "    T.RandomResizedCrop(size=(224, 224), scale=(0.8, 1.0)),\n",
    "    T.RandomHorizontalFlip(p=0.5),\n",
    "    T.Normalize(mean=(mean), std=(std)),\n",
    "    augmix_transform,\n",
    "    colout_transform,\n",
    "    T.Lambda(lambda x: x.repeat(3, 1, 1))\n",
    "])\n",
    "\n",
    "training_data = CustomImageDataset(\n",
    "    annotations_file='data/train.csv',\n",
    "    img_dir='data',\n",
    "    transform=transform_train\n",
    ")"
   ]
  },
  {
   "cell_type": "code",
   "execution_count": 12,
   "id": "1b44331a",
   "metadata": {
    "cellId": "dyq3j4s9fru8uk4p0ec0ux"
   },
   "outputs": [
    {
     "name": "stderr",
     "output_type": "stream",
     "text": [
      "/home/jupyter/.local/lib/python3.8/site-packages/composer/algorithms/gyro_dropout/gyro_dropout.py:84: NoEffectWarning: No instances of `torch.nn.Dropout` were found, and therefore, there were no modules to replace.\n",
      "  warnings.warn(\n"
     ]
    }
   ],
   "source": [
    "set_random_seed(3407)\n",
    "device = 'cuda:0' if torch.cuda.is_available() else 'cpu'\n",
    "model = densenet169(weights=None)\n",
    "model.classifier = nn.Linear(1664, 5)\n",
    "model = model.to(device)\n",
    "\n",
    "num_epochs = 5\n",
    "lr = 1e-3\n",
    "weight_decay = 1e-4\n",
    "opt = torch.optim.Adam(model.parameters(), lr=lr, weight_decay=weight_decay)\n",
    "scheduler = StepLR(opt, 3)\n",
    "\n",
    "config = {\n",
    "    \"model\": \"densenet169\",\n",
    "    \"epochs\": num_epochs,\n",
    "    \"batch_size\": batch_size,\n",
    "    \"optimizer\": \"Adam\",\n",
    "    \"lr\": lr,\n",
    "    \"weight_decay\": weight_decay,\n",
    "    \"sheduler\": \"StepLR\"\n",
    "}\n",
    "\n",
    "cf.apply_squeeze_excite(\n",
    "    model,\n",
    "    optimizers=opt,\n",
    "    min_channels=128,\n",
    "    latent_channels=64\n",
    ")\n",
    "\n",
    "cf.apply_blurpool(\n",
    "    model,\n",
    "    optimizers=opt,\n",
    "    replace_convs=True,\n",
    "    replace_maxpools=True,\n",
    "    blur_first=True\n",
    ")\n",
    "\n",
    "cf.apply_channels_last(model)\n",
    "\n",
    "cf.apply_gyro_dropout(\n",
    "    model,\n",
    "    iters_per_epoch = 196,\n",
    "    max_epoch = 100,\n",
    "    p = 0.5,\n",
    "    sigma = 256,\n",
    "    tau = 16,\n",
    ")"
   ]
  },
  {
   "cell_type": "code",
   "execution_count": 22,
   "id": "85f576c7",
   "metadata": {
    "cellId": "ttd01v0r7vl8fd7x7xu0by"
   },
   "outputs": [
    {
     "data": {
      "text/html": [
       "Tracking run with wandb version 0.14.0"
      ],
      "text/plain": [
       "<IPython.core.display.HTML object>"
      ]
     },
     "metadata": {},
     "output_type": "display_data"
    },
    {
     "data": {
      "text/html": [
       "Run data is saved locally in <code>/home/jupyter/work/resources/wandb/run-20230318_233509-f633cuuk</code>"
      ],
      "text/plain": [
       "<IPython.core.display.HTML object>"
      ]
     },
     "metadata": {},
     "output_type": "display_data"
    },
    {
     "data": {
      "text/html": [
       "Syncing run <strong><a href='https://wandb.ai/messlav/HSE_DL_BHW1/runs/f633cuuk' target=\"_blank\">valiant-terrain-50</a></strong> to <a href='https://wandb.ai/messlav/HSE_DL_BHW1' target=\"_blank\">Weights & Biases</a> (<a href='https://wandb.me/run' target=\"_blank\">docs</a>)<br/>"
      ],
      "text/plain": [
       "<IPython.core.display.HTML object>"
      ]
     },
     "metadata": {},
     "output_type": "display_data"
    },
    {
     "data": {
      "text/html": [
       " View project at <a href='https://wandb.ai/messlav/HSE_DL_BHW1' target=\"_blank\">https://wandb.ai/messlav/HSE_DL_BHW1</a>"
      ],
      "text/plain": [
       "<IPython.core.display.HTML object>"
      ]
     },
     "metadata": {},
     "output_type": "display_data"
    },
    {
     "data": {
      "text/html": [
       " View run at <a href='https://wandb.ai/messlav/HSE_DL_BHW1/runs/f633cuuk' target=\"_blank\">https://wandb.ai/messlav/HSE_DL_BHW1/runs/f633cuuk</a>"
      ],
      "text/plain": [
       "<IPython.core.display.HTML object>"
      ]
     },
     "metadata": {},
     "output_type": "display_data"
    },
    {
     "data": {
      "application/vnd.jupyter.widget-view+json": {
       "model_id": "4fb693c6aaa0460ea2f1dc8218b727ad",
       "version_major": 2,
       "version_minor": 0
      },
      "text/plain": [
       "  0%|          | 0/1343 [00:00<?, ?it/s]"
      ]
     },
     "metadata": {},
     "output_type": "display_data"
    },
    {
     "data": {
      "application/vnd.jupyter.widget-view+json": {
       "model_id": "48dd7083e6ce47d0af5817ac33329e56",
       "version_major": 2,
       "version_minor": 0
      },
      "text/plain": [
       "  0%|          | 0/1343 [00:00<?, ?it/s]"
      ]
     },
     "metadata": {},
     "output_type": "display_data"
    },
    {
     "data": {
      "application/vnd.jupyter.widget-view+json": {
       "model_id": "dfdf3fe6be7d4262a800e77523bacac1",
       "version_major": 2,
       "version_minor": 0
      },
      "text/plain": [
       "  0%|          | 0/1343 [00:00<?, ?it/s]"
      ]
     },
     "metadata": {},
     "output_type": "display_data"
    },
    {
     "data": {
      "application/vnd.jupyter.widget-view+json": {
       "model_id": "e4136847c2b64fc4b89ba6a1cea2c5e1",
       "version_major": 2,
       "version_minor": 0
      },
      "text/plain": [
       "  0%|          | 0/1343 [00:00<?, ?it/s]"
      ]
     },
     "metadata": {},
     "output_type": "display_data"
    },
    {
     "name": "stdout",
     "output_type": "stream",
     "text": [
      "Epoch 0 of 5\n",
      "Epoch 1 of 5\n",
      "Epoch 2 of 5\n",
      "Epoch 3 of 5\n",
      "Epoch 4 of 5\n"
     ]
    },
    {
     "data": {
      "application/vnd.jupyter.widget-view+json": {
       "model_id": "f9e49b79f1114deb959ab10d7b24aacb",
       "version_major": 2,
       "version_minor": 0
      },
      "text/plain": [
       "  0%|          | 0/1343 [00:00<?, ?it/s]"
      ]
     },
     "metadata": {},
     "output_type": "display_data"
    },
    {
     "name": "stderr",
     "output_type": "stream",
     "text": [
      "/home/jupyter/.local/lib/python3.8/site-packages/torchmetrics/utilities/prints.py:36: UserWarning: No positive samples in targets, true positive value should be meaningless. Returning zero tensor in true positive score\n",
      "  warnings.warn(*args, **kwargs)\n",
      "/home/jupyter/.local/lib/python3.8/site-packages/torchmetrics/utilities/prints.py:36: UserWarning: No positive samples in targets, true positive value should be meaningless. Returning zero tensor in true positive score\n",
      "  warnings.warn(*args, **kwargs)\n",
      "/home/jupyter/.local/lib/python3.8/site-packages/torchmetrics/utilities/prints.py:36: UserWarning: No positive samples in targets, true positive value should be meaningless. Returning zero tensor in true positive score\n",
      "  warnings.warn(*args, **kwargs)\n",
      "/home/jupyter/.local/lib/python3.8/site-packages/torchmetrics/utilities/prints.py:36: UserWarning: No positive samples in targets, true positive value should be meaningless. Returning zero tensor in true positive score\n",
      "  warnings.warn(*args, **kwargs)\n",
      "/home/jupyter/.local/lib/python3.8/site-packages/torchmetrics/utilities/prints.py:36: UserWarning: No positive samples in targets, true positive value should be meaningless. Returning zero tensor in true positive score\n",
      "  warnings.warn(*args, **kwargs)\n"
     ]
    },
    {
     "data": {
      "text/html": [
       "Waiting for W&B process to finish... <strong style=\"color:green\">(success).</strong>"
      ],
      "text/plain": [
       "<IPython.core.display.HTML object>"
      ]
     },
     "metadata": {},
     "output_type": "display_data"
    },
    {
     "data": {
      "text/html": [
       "<style>\n",
       "    table.wandb td:nth-child(1) { padding: 0 10px; text-align: left ; width: auto;} td:nth-child(2) {text-align: left ; width: 100%}\n",
       "    .wandb-row { display: flex; flex-direction: row; flex-wrap: wrap; justify-content: flex-start; width: 100% }\n",
       "    .wandb-col { display: flex; flex-direction: column; flex-basis: 100%; flex: 1; padding: 10px; }\n",
       "    </style>\n",
       "<div class=\"wandb-row\"><div class=\"wandb-col\"><h3>Run history:</h3><br/><table class=\"wandb\"><tr><td>train/auc_roc</td><td>▁▃▃▂▄▄▄▄▄▄▄▆▅▅▅▃▅▃▅▄▄▅▅▆▅▅▇▅▆▆▇▅▆▃▆▆█▅▆▆</td></tr><tr><td>train/loss</td><td>██▇█▆▅█▇▅▅▆▄▇▂▆▆▅▆▃▃▆▂▂▄▄▂▂▆▃▅▄▄▃▅▄▃▁▂▄▂</td></tr></table><br/></div><div class=\"wandb-col\"><h3>Run summary:</h3><br/><table class=\"wandb\"><tr><td>train/auc_roc</td><td>0.57357</td></tr><tr><td>train/loss</td><td>0.49094</td></tr></table><br/></div></div>"
      ],
      "text/plain": [
       "<IPython.core.display.HTML object>"
      ]
     },
     "metadata": {},
     "output_type": "display_data"
    },
    {
     "data": {
      "text/html": [
       " View run <strong style=\"color:#cdcd00\">valiant-terrain-50</strong> at: <a href='https://wandb.ai/messlav/HSE_DL_BHW1/runs/f633cuuk' target=\"_blank\">https://wandb.ai/messlav/HSE_DL_BHW1/runs/f633cuuk</a><br/>Synced 5 W&B file(s), 0 media file(s), 0 artifact file(s) and 0 other file(s)"
      ],
      "text/plain": [
       "<IPython.core.display.HTML object>"
      ]
     },
     "metadata": {},
     "output_type": "display_data"
    },
    {
     "data": {
      "text/html": [
       "Find logs at: <code>./wandb/run-20230318_233509-f633cuuk/logs</code>"
      ],
      "text/plain": [
       "<IPython.core.display.HTML object>"
      ]
     },
     "metadata": {},
     "output_type": "display_data"
    }
   ],
   "source": [
    "train(model, opt, num_epochs, scheduler, record=True, config=config, PATH='compose')"
   ]
  },
  {
   "cell_type": "markdown",
   "id": "16a96670",
   "metadata": {
    "cellId": "a21ce8neow8vt4aq3bdet"
   },
   "source": [
    "# Predictions"
   ]
  },
  {
   "cell_type": "code",
   "execution_count": 23,
   "id": "2aee13c5",
   "metadata": {
    "cellId": "jf7zsrbv0j91dsdh0s4cwjj"
   },
   "outputs": [],
   "source": [
    "import os\n",
    "\n",
    "class CustomImageDatasetTest(Dataset):\n",
    "    def __init__(self, img_dir, transform=None, target_transform=None):\n",
    "        self.img_locations = os.listdir('data/valid')\n",
    "        self.img_dir = img_dir\n",
    "        self.transform = transform\n",
    "        self.target_transform = target_transform\n",
    "\n",
    "    def __len__(self):\n",
    "        return len(self.img_locations)\n",
    "\n",
    "    def __getitem__(self, idx):\n",
    "        image = read_image(f'{self.img_dir}/{self.img_locations[idx]}') / 255\n",
    "        # print(image.shape)\n",
    "        label = self.img_locations[idx]\n",
    "        if self.transform:\n",
    "            image = self.transform(image)\n",
    "        return image, label\n",
    "        \n",
    "transform_test = T.Compose([\n",
    "    T.CenterCrop(size=(224, 224)),\n",
    "    T.Normalize(mean=(mean), std=(std)),\n",
    "    T.Lambda(lambda x: x.repeat(3, 1, 1))\n",
    "])\n",
    "\n",
    "\n",
    "testing_data_real = CustomImageDatasetTest(\n",
    "    img_dir='data/valid',\n",
    "    transform=transform_test\n",
    ")"
   ]
  },
  {
   "cell_type": "code",
   "execution_count": 24,
   "id": "057ae40a",
   "metadata": {
    "cellId": "4ujzhdzumy2y2lisds7bs"
   },
   "outputs": [],
   "source": [
    "test_loader_real = torch.utils.data.DataLoader(\n",
    "    testing_data_real,\n",
    "    batch_size=batch_size,\n",
    "    shuffle=False,\n",
    "    num_workers=8,\n",
    "    pin_memory=True,\n",
    ")"
   ]
  },
  {
   "cell_type": "code",
   "execution_count": 25,
   "id": "cc9e00dc",
   "metadata": {
    "cellId": "f3ddkr9ws3jsmdvc9lb2l"
   },
   "outputs": [],
   "source": [
    "def make_preds(name):\n",
    "    model.eval()\n",
    "    Image, Cardiomegaly, Edema, Consolidation, Atelectasis, Pleural_Effusion = [], [], [], [], [], []\n",
    "    for batch_num, (data, label) in tqdm(enumerate(test_loader_real), total=len(test_loader_real)):\n",
    "        data = data.to(device)\n",
    "        with torch.no_grad():\n",
    "            with torch.cuda.amp.autocast():\n",
    "                output = model(data)\n",
    "                pred = torch.nn.Sigmoid()(output)\n",
    "\n",
    "        Image.extend(label)\n",
    "        Cardiomegaly.extend(pred[:, 0].tolist())\n",
    "        Edema.extend(pred[:, 1].tolist())\n",
    "        Consolidation.extend(pred[:, 2].tolist())\n",
    "        Atelectasis.extend(pred[:, 3].tolist())\n",
    "        Pleural_Effusion.extend(pred[:, 4].tolist())\n",
    "    df = pd.DataFrame({\n",
    "        'Image': [f'valid/{name}' for name in Image],\n",
    "        'Cardiomegaly': Cardiomegaly,\n",
    "        'Edema': Edema,\n",
    "        'Consolidation': Consolidation,\n",
    "        'Atelectasis': Atelectasis,\n",
    "        'Pleural Effusion': Pleural_Effusion\n",
    "    })\n",
    "    df.to_csv(f'{name}.csv', index=False)"
   ]
  },
  {
   "cell_type": "code",
   "execution_count": 26,
   "id": "58da26f7",
   "metadata": {
    "cellId": "j0jb227e6azoh2cm60mgh"
   },
   "outputs": [
    {
     "data": {
      "application/vnd.jupyter.widget-view+json": {
       "model_id": "9647dcfbbac2482e8e33ff8a574b83c9",
       "version_major": 2,
       "version_minor": 0
      },
      "text/plain": [
       "  0%|          | 0/151 [00:00<?, ?it/s]"
      ]
     },
     "metadata": {},
     "output_type": "display_data"
    },
    {
     "name": "stdout",
     "output_type": "stream",
     "text": [
      "Warning: Looks like you're using an outdated API Version, please consider updating (server 1.5.13 / client 1.5.8)\n",
      "Successfully submitted to Chest x-ray image classification"
     ]
    },
    {
     "name": "stderr",
     "output_type": "stream",
     "text": [
      "100%|██████████| 1.69M/1.69M [00:02<00:00, 864kB/s] \n"
     ]
    }
   ],
   "source": [
    "make_preds('composed')\n",
    "!kaggle competitions submit -c chest-x-ray-image-classification -f composed.csv -m \"composed\""
   ]
  },
  {
   "cell_type": "markdown",
   "id": "5c4a7558",
   "metadata": {
    "cellId": "lnbyknib95fjveley703l"
   },
   "source": [
    "# Results\n",
    "\n",
    "* Code can be updated in 5 minutes\n",
    "\n",
    "* https://wandb.ai/messlav/HSE_DL_BHW1\n",
    "\n",
    "* The same time\n",
    "\n",
    "* Similar train metrics\n",
    "\n",
    "* Increased AUROC on test by 0.03 (huge improvement)"
   ]
  }
 ],
 "metadata": {
  "language_info": {
   "codemirror_mode": {
    "name": "ipython",
    "version": 3
   },
   "file_extension": ".py",
   "mimetype": "text/x-python",
   "name": "python",
   "nbconvert_exporter": "python",
   "pygments_lexer": "ipython3",
   "version": "3.7.7"
  },
  "notebookId": "04672359-3f39-46cc-8805-f84e39e3dfc7",
  "notebookPath": "composer.ipynb"
 },
 "nbformat": 4,
 "nbformat_minor": 5
}